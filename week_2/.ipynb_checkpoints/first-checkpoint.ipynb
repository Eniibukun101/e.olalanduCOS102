{
 "cells": [
  {
   "cell_type": "code",
   "execution_count": 4,
   "id": "426142ef-8d94-476d-8de8-0945df4dd41b",
   "metadata": {},
   "outputs": [
    {
     "name": "stdin",
     "output_type": "stream",
     "text": [
      "Enter your state of origin: OGUN\n"
     ]
    },
    {
     "name": "stdout",
     "output_type": "stream",
     "text": [
      "Your state of origin is:  OGUN\n",
      "The first character is:  O\n",
      "The characters starting from 3rd to 5th are:  UN\n",
      "The string starting from 3rd character character is:  UN\n",
      "State of origin two times OGUNOGUN\n"
     ]
    }
   ],
   "source": [
    "str = input(\"Enter your state of origin:\")\n",
    "\n",
    "print (\"Your state of origin is: \", str)\n",
    "print (\"The first character is: \",str[0])\n",
    "print (\"The characters starting from 3rd to 5th are: \", str[2:5])\n",
    "print (\"The string starting from 3rd character character is: \",str[2:])\n",
    "print (\"State of origin two times\",str * 2)"
   ]
  },
  {
   "cell_type": "code",
   "execution_count": 6,
   "id": "d957f0c3-47e0-4817-b5bb-dd610280d94f",
   "metadata": {},
   "outputs": [
    {
     "data": {
      "text/plain": [
       "'eorg'"
      ]
     },
     "execution_count": 6,
     "metadata": {},
     "output_type": "execute_result"
    }
   ],
   "source": [
    "name = \"George\"\n",
    "\n",
    "name [1:5]\n",
    "\n"
   ]
  },
  {
   "cell_type": "code",
   "execution_count": null,
   "id": "239994a2-e4fa-4665-b55a-e5920f6a8ae8",
   "metadata": {},
   "outputs": [],
   "source": [
    "word = \"Computer Science\"\n",
    "\n",
    "word[-1]"
   ]
  },
  {
   "cell_type": "markdown",
   "id": "916e1716-dffc-4a66-b00c-42beb1cc898b",
   "metadata": {},
   "source": [
    "# String formatting"
   ]
  },
  {
   "cell_type": "code",
   "execution_count": 8,
   "id": "568b81d3-fe38-4e23-9400-0037e30cb95e",
   "metadata": {},
   "outputs": [
    {
     "name": "stdout",
     "output_type": "stream",
     "text": [
      "Name: Ojo; Score: 79; Grade:A\n"
     ]
    }
   ],
   "source": [
    "name = \"Ojo\"\n",
    "score = 79\n",
    "grade = \"A\"\n",
    "\n",
    "print(f\"Name: {name}; Score: {score}; Grade:{grade}\")"
   ]
  },
  {
   "cell_type": "markdown",
   "id": "f7eb0d8c-ed45-4774-872a-d8455a0b386b",
   "metadata": {},
   "source": [
    "# String Concatenation"
   ]
  },
  {
   "cell_type": "code",
   "execution_count": 11,
   "id": "37c1e725-2e9b-416c-a19e-d02d8fe146a3",
   "metadata": {
    "scrolled": true
   },
   "outputs": [
    {
     "ename": "TypeError",
     "evalue": "'str' object is not callable",
     "output_type": "error",
     "traceback": [
      "\u001b[1;31m---------------------------------------------------------------------------\u001b[0m",
      "\u001b[1;31mTypeError\u001b[0m                                 Traceback (most recent call last)",
      "Cell \u001b[1;32mIn[11], line 5\u001b[0m\n\u001b[0;32m      2\u001b[0m score \u001b[38;5;241m=\u001b[39m \u001b[38;5;241m79\u001b[39m\n\u001b[0;32m      3\u001b[0m grade \u001b[38;5;241m=\u001b[39m \u001b[38;5;124m\"\u001b[39m\u001b[38;5;124mA\u001b[39m\u001b[38;5;124m\"\u001b[39m\n\u001b[1;32m----> 5\u001b[0m output \u001b[38;5;241m=\u001b[39m \u001b[38;5;124m\"\u001b[39m\u001b[38;5;124mName:\u001b[39m\u001b[38;5;124m\"\u001b[39m \u001b[38;5;241m+\u001b[39m name \u001b[38;5;241m+\u001b[39m \u001b[38;5;124m\"\u001b[39m\u001b[38;5;124m; Score:\u001b[39m\u001b[38;5;124m\"\u001b[39m \u001b[38;5;241m+\u001b[39m \u001b[38;5;28mstr\u001b[39m(score) \u001b[38;5;241m+\u001b[39m \u001b[38;5;124m\"\u001b[39m\u001b[38;5;124m; Grade:\u001b[39m\u001b[38;5;124m\"\u001b[39m \u001b[38;5;241m+\u001b[39m grade\n\u001b[0;32m      6\u001b[0m \u001b[38;5;28mprint\u001b[39m(output)\n",
      "\u001b[1;31mTypeError\u001b[0m: 'str' object is not callable"
     ]
    }
   ],
   "source": [
    "name = \"Ojo\"\n",
    "score = 79\n",
    "grade = \"A\"\n",
    "\n",
    "output = \"Name:\" + name + \"; Score:\" + str(score) + \"; Grade:\" + grade\n",
    "print(output)"
   ]
  },
  {
   "cell_type": "markdown",
   "id": "c2970fe4-87f5-4080-81bf-835038ac4211",
   "metadata": {},
   "source": [
    "# Numeric data types"
   ]
  },
  {
   "cell_type": "code",
   "execution_count": 13,
   "id": "715004e1-8caa-4d67-bed9-e250a5ff366e",
   "metadata": {},
   "outputs": [
    {
     "name": "stdout",
     "output_type": "stream",
     "text": [
      "\n",
      "    1. Rice\n",
      "    2. Beans\n",
      "    3. Stew\n",
      "    4. Plantain\n",
      "\n"
     ]
    },
    {
     "name": "stdin",
     "output_type": "stream",
     "text": [
      "Enter your option:  1\n"
     ]
    },
    {
     "data": {
      "text/plain": [
       "int"
      ]
     },
     "execution_count": 13,
     "metadata": {},
     "output_type": "execute_result"
    }
   ],
   "source": [
    "print(\"\"\"\n",
    "    1. Rice\n",
    "    2. Beans\n",
    "    3. Stew\n",
    "    4. Plantain\n",
    "\"\"\")\n",
    "\n",
    "option = int(input(\"Enter your option: \"))\n",
    "type(option)"
   ]
  },
  {
   "cell_type": "markdown",
   "id": "f2f42f6a-f818-49b8-b25e-f2c8f34b4795",
   "metadata": {},
   "source": [
    "# Integer Operation"
   ]
  },
  {
   "cell_type": "code",
   "execution_count": null,
   "id": "d16aa18a-42d4-48f6-933b-bb36b2e5e08f",
   "metadata": {},
   "outputs": [],
   "source": [
    "# account_balance = 50\n",
    "# amount = 5000000\n",
    "# # account_balance = account_balance + amount\n",
    "# account_balance += amount\n",
    "\n",
    "# print(account_balance)\n",
    "\n",
    "\n",
    "\n",
    "ps5_price = 900000\n",
    "# account_balance = account_balance - ps5_price\n",
    "# account_balance -= ps5_price\n",
    "\n",
    "# print(account_balance)\n",
    "\n",
    "\n",
    "account_balance *2"
   ]
  },
  {
   "cell_type": "markdown",
   "id": "8fdbee80-ae58-4c21-bc4f-db4e5e2d2baf",
   "metadata": {},
   "source": [
    "# List"
   ]
  },
  {
   "cell_type": "code",
   "execution_count": 15,
   "id": "b65586b0-8a29-4f21-9e39-b9358debaf34",
   "metadata": {},
   "outputs": [
    {
     "name": "stdout",
     "output_type": "stream",
     "text": [
      "['Mango', 'Orange', 1, 2, True, 'COS102', 'apple']\n"
     ]
    }
   ],
   "source": [
    "fruits = [\"Mango\", \"Orange\",1, 2, True]\n",
    "\n",
    "fruits.append(\"COS102\")\n",
    "fruits.append(\"apple\")\n",
    "print(fruits)"
   ]
  }
 ],
 "metadata": {
  "kernelspec": {
   "display_name": "Python 3 (ipykernel)",
   "language": "python",
   "name": "python3"
  },
  "language_info": {
   "codemirror_mode": {
    "name": "ipython",
    "version": 3
   },
   "file_extension": ".py",
   "mimetype": "text/x-python",
   "name": "python",
   "nbconvert_exporter": "python",
   "pygments_lexer": "ipython3",
   "version": "3.12.7"
  }
 },
 "nbformat": 4,
 "nbformat_minor": 5
}
