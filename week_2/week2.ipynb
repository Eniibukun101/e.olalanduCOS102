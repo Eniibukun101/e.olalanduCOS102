{
 "cells": [
  {
   "cell_type": "code",
   "execution_count": 1,
   "id": "264f69a3-da06-41c4-a71f-87cb7ea70300",
   "metadata": {},
   "outputs": [
    {
     "name": "stdin",
     "output_type": "stream",
     "text": [
      "Enter your state of origin: Ogun\n"
     ]
    },
    {
     "name": "stdout",
     "output_type": "stream",
     "text": [
      "Your state of origin is: Ogun\n",
      "The first character is: O\n",
      "The characters starting from the 3rd to 5th are: un\n",
      "The string starting from  3rd character is : un\n",
      "State of origin two times OgunOgun\n"
     ]
    }
   ],
   "source": [
    "str = input(\"Enter your state of origin:\")\n",
    "\n",
    "print(\"Your state of origin is:\",str)\n",
    "print(\"The first character is:\",str[0])\n",
    "print(\"The characters starting from the 3rd to 5th are:\" , str[2:5])\n",
    "print (\"The string starting from  3rd character is :\", str[2:])\n",
    "print(\"State of origin two times\", str * 2)\n"
   ]
  },
  {
   "cell_type": "code",
   "execution_count": 2,
   "id": "c515a357-d316-40a6-a61a-323a35754788",
   "metadata": {},
   "outputs": [
    {
     "name": "stdin",
     "output_type": "stream",
     "text": [
      "Enter mass in kilogram:  45\n"
     ]
    },
    {
     "name": "stdout",
     "output_type": "stream",
     "text": [
      "The energy eqivalent to 45.0 kg of mass is 4.044398304315679e+18 joules\n"
     ]
    }
   ],
   "source": [
    "# Input from user\n",
    "m = float(input(\"Enter mass in kilogram: \"))\n",
    "\n",
    "#constant value for the the speed of the light in m/s\n",
    "c = 299792458\n",
    "\n",
    "#calculating energy using Einstein's equation\n",
    "energy = m * c ** 2\n",
    "\n",
    "#Displaying the result\n",
    "print(f\"The energy eqivalent to {m} kg of mass is {energy} joules\")"
   ]
  },
  {
   "cell_type": "code",
   "execution_count": 3,
   "id": "8a4b1b1b-9468-467b-9041-f808f95850be",
   "metadata": {},
   "outputs": [
    {
     "name": "stdout",
     "output_type": "stream",
     "text": [
      "['Anaconda ', 786, 2.23, 'Jupyter', 70.2]\n",
      "Anaconda \n",
      "[786, 2.23]\n",
      "[2.23, 'Jupyter', 70.2]\n",
      "[321, 'Python', 321, 'Python']\n",
      "['Anaconda ', 786, 2.23, 'Jupyter', 70.2, 321, 'Python']\n"
     ]
    }
   ],
   "source": [
    "list = [ 'Anaconda ',786 , 2.23, 'Jupyter', 70.2 ]\n",
    "shortlist = [321 , 'Python']\n",
    "\n",
    "print(list)       #Prints complete list\n",
    "print(list[0])    #prints first element of the list \n",
    "print(list[1:3])  #prints elements starting from 2nd till 3rd\n",
    "print(list[2:])    #Prints elements starting from 3rd element\n",
    "print(shortlist * 2)  #prints list two times\n",
    "print(list + shortlist) #prints concatenated lists"
   ]
  },
  {
   "cell_type": "code",
   "execution_count": 4,
   "id": "4b8ecb3f-cccd-4e24-8c0b-eeb772a938ec",
   "metadata": {},
   "outputs": [
    {
     "name": "stdout",
     "output_type": "stream",
     "text": [
      "('Ekiti', 750, 'Oshogbo', 250, 'Akure', 500)\n",
      "500\n",
      "('Oshogbo', 250)\n",
      "(250, 'Akure', 500)\n",
      "('Abeokuta', 300, 'Ogbomoso', 'Abeokuta', 300, 'Ogbomoso', 'Abeokuta', 300, 'Ogbomoso')\n",
      "('Ekiti', 750, 'Oshogbo', 250, 'Akure', 500, 'Abeokuta', 300, 'Ogbomoso')\n"
     ]
    }
   ],
   "source": [
    "tuple = (\"Ekiti\" , 750,'Oshogbo',250,\"Akure\",500)\n",
    "s_tuple = (\"Abeokuta\",300,\"Ogbomoso\")\n",
    "\n",
    "#prints the complete tuple\n",
    "print(tuple)\n",
    "\n",
    "#print last element of the tuple\n",
    "print(tuple[-1])\n",
    "\n",
    "#print ek\\lements of the tuple starting from 2nd till 3rd\n",
    "print(tuple[2:4])\n",
    "\n",
    "#print elements of the tuple starting from the 3rd element\n",
    "print(tuple[3:])\n",
    "\n",
    "#prints the contents of the tupke twice\n",
    "print(s_tuple * 3)\n",
    "\n",
    "#print concatenated tuples\n",
    "print(tuple + s_tuple)"
   ]
  },
  {
   "cell_type": "code",
   "execution_count": 5,
   "id": "0dd6e8bf-098b-4c3c-b2c5-4170a940bb4a",
   "metadata": {},
   "outputs": [
    {
     "name": "stdout",
     "output_type": "stream",
     "text": [
      "False\n",
      "False\n",
      "False\n",
      "False\n",
      "True\n"
     ]
    }
   ],
   "source": [
    "#Returns false as game game_1 is not equal to game_2\n",
    "game_1 = 2\n",
    "game_2 = 4\n",
    "print(bool(game_1 == game_2))\n",
    "#or\n",
    "print(game_1 == game_2)\n",
    "\n",
    "#Returns False as val is None\n",
    "val = None\n",
    "print(bool(val))\n",
    "\n",
    "#Returns false as num is an empty sequence\n",
    "num = ()\n",
    "print(bool(num))\n",
    "\n",
    "#Returns true as age is boolean\n",
    "age = True \n",
    "print(bool(age))"
   ]
  },
  {
   "cell_type": "code",
   "execution_count": 6,
   "id": "93f6cc0d-99ca-48b9-b1d9-0787ff622104",
   "metadata": {},
   "outputs": [
    {
     "name": "stdout",
     "output_type": "stream",
     "text": [
      "Grade = 70\n",
      "GPA = 4\n",
      "CGPA = 4\n"
     ]
    }
   ],
   "source": [
    "#convert to int\n",
    "\n",
    "grade = int(70)   #grade will be 70\n",
    "gpa = int(4.9)    #gpa will be 4.9\n",
    "cgpa = int(\"4\")   #cgpa will be 4\n",
    "\n",
    "print(f\"Grade = {grade}\")\n",
    "print(f\"GPA = {gpa}\")\n",
    "print(f\"CGPA = {cgpa}\")"
   ]
  },
  {
   "cell_type": "code",
   "execution_count": 7,
   "id": "ee19f8af-3645-42b2-97ed-9b7d64ada515",
   "metadata": {},
   "outputs": [
    {
     "name": "stdout",
     "output_type": "stream",
     "text": [
      "Grade= 97.0\n",
      "gpa= 5.0\n",
      "cgpa= 4.97\n"
     ]
    }
   ],
   "source": [
    "#convert to float\n",
    "\n",
    "grade=float(97)\n",
    "gpa=float(5)\n",
    "cgpa=float(4.97)\n",
    "\n",
    "print(f\"Grade= {grade}\")\n",
    "print(f\"gpa= {gpa}\")\n",
    "print(f\"cgpa= {cgpa}\")"
   ]
  },
  {
   "cell_type": "code",
   "execution_count": null,
   "id": "8a7857dd-7abc-4d2e-bb90-8d02146dfc02",
   "metadata": {},
   "outputs": [],
   "source": []
  }
 ],
 "metadata": {
  "kernelspec": {
   "display_name": "Python 3 (ipykernel)",
   "language": "python",
   "name": "python3"
  },
  "language_info": {
   "codemirror_mode": {
    "name": "ipython",
    "version": 3
   },
   "file_extension": ".py",
   "mimetype": "text/x-python",
   "name": "python",
   "nbconvert_exporter": "python",
   "pygments_lexer": "ipython3",
   "version": "3.12.7"
  }
 },
 "nbformat": 4,
 "nbformat_minor": 5
}
