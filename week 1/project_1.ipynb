{
 "cells": [
  {
   "cell_type": "code",
   "execution_count": 11,
   "id": "25ab62ca-3550-42a0-bdbe-df1e437e2d04",
   "metadata": {},
   "outputs": [
    {
     "name": "stdin",
     "output_type": "stream",
     "text": [
      "Enter the value of (P): 90000\n",
      "Enter the value of (R): 45\n",
      "Enter the value of (T): 5\n"
     ]
    },
    {
     "name": "stdout",
     "output_type": "stream",
     "text": [
      "The value of A is 292500.0 \n"
     ]
    }
   ],
   "source": [
    "P = int(input(\"Enter the value of (P):\"))             #principal\n",
    "R = int(input(\"Enter the value of (R):\"))             #rate in percentage\n",
    "T = int(input(\"Enter the value of (T):\"))             #time in years\n",
    "\n",
    "#To calculate the amount for the simple interest\n",
    "A = P * (1 + (R/100)* T)\n",
    "print(\"The value of A is {} \".format(A))\n"
   ]
  },
  {
   "cell_type": "code",
   "execution_count": 17,
   "id": "d4672114-57cc-4b4a-8fd3-1761da3e253e",
   "metadata": {},
   "outputs": [
    {
     "name": "stdin",
     "output_type": "stream",
     "text": [
      "Enter the value of (P): 2500\n",
      "Enter the value of (R): 6\n",
      "Enter the value of (n): 5\n",
      "Enter the value of (t): 3\n"
     ]
    },
    {
     "name": "stdout",
     "output_type": "stream",
     "text": [
      "The value of A is 386522.40000000014\n"
     ]
    }
   ],
   "source": [
    "#To display the formula for compound interest\n",
    "P = int(input(\"Enter the value of (P):\"))         #principal\n",
    "R = int(input(\"Enter the value of (R):\"))         #rate in percentage\n",
    "n = int(input(\"Enter the value of (n):\"))         #number of times the interest compounded per year\n",
    "t = int(input(\"Enter the value of (t):\"))         #time in years\n",
    "\n",
    "#Using the formula to calculate\n",
    "A = P * (1 + (R/n))**n * t\n",
    "print(\"The value of A is {}\" .format(A))"
   ]
  },
  {
   "cell_type": "code",
   "execution_count": 21,
   "id": "e34ad4b7-59b0-49e2-9e6c-6a77875f6781",
   "metadata": {},
   "outputs": [
    {
     "name": "stdin",
     "output_type": "stream",
     "text": [
      "Enter the value of (PMT): 35000\n",
      "Enter the value of (R): 4\n",
      "Enter the value of (n): 3\n",
      "Enter the value of (t): 2\n"
     ]
    },
    {
     "name": "stdout",
     "output_type": "stream",
     "text": [
      "The value of A is 4210082.304526745\n"
     ]
    }
   ],
   "source": [
    "#To display the formula for Annuity\n",
    "PMT = int(input(\"Enter the value of (PMT):\"))  #Payment per period\n",
    "R = int(input(\"Enter the value of (R):\"))     #rate in percentage\n",
    "n = int(input(\"Enter the value of (n):\"))     #number of times the interest compounded per year\n",
    "t = int(input(\"Enter the value of (t):\"))     #time in years\n",
    "\n",
    "#using the formula to calculate\n",
    "A = PMT * ((1 + R/n) **(n * t) -1)/(R/n)\n",
    "print(\"The value of A is {}\".format(A))"
   ]
  },
  {
   "cell_type": "code",
   "execution_count": null,
   "id": "104cb9cd-362d-4bc2-bfef-251c1a98edf9",
   "metadata": {},
   "outputs": [],
   "source": []
  }
 ],
 "metadata": {
  "kernelspec": {
   "display_name": "Python [conda env:base] *",
   "language": "python",
   "name": "conda-base-py"
  },
  "language_info": {
   "codemirror_mode": {
    "name": "ipython",
    "version": 3
   },
   "file_extension": ".py",
   "mimetype": "text/x-python",
   "name": "python",
   "nbconvert_exporter": "python",
   "pygments_lexer": "ipython3",
   "version": "3.12.7"
  }
 },
 "nbformat": 4,
 "nbformat_minor": 5
}
